{
 "cells": [
  {
   "cell_type": "markdown",
   "id": "ea515ce0",
   "metadata": {},
   "source": [
    "# Step 6 – Post-hoc: Are some subsets higher risk?\n",
    "\n",
    "This notebook compares heart‑disease prevalence across the clusters obtained earlier (complete‑linkage hierarchical clustering on FAMD components) by bringing the **Class** variable back into the analysis. It tabulates prevalence, plots confidence intervals, performs basic statistical tests, and provides clinical interpretation. The clusters were formed in a label‑free manner and Class is only used at this stage.\n"
   ]
  },
  {
   "cell_type": "markdown",
   "id": "740ace57",
   "metadata": {},
   "source": [
    "## 6.0 Overview of tasks\n",
    "\n",
    "Our goal is to describe how disease prevalence differs across the unsupervised clusters. We will:\n",
    "\n",
    "- Recreate the cluster assignments (FAMD clustering with *k = 2*).\n",
    "- Tabulate Class prevalence within each cluster (Table 2).\n",
    "- Plot disease prevalence with 95 % Wilson confidence intervals (Figure 4).\n",
    "- Perform lightweight statistics: a chi‑square test for independence, a risk difference with 95 % confidence interval, and an odds ratio.\n",
    "- Summarise the clusters clinically.\n"
   ]
  },
  {
   "cell_type": "code",
   "execution_count": 5,
   "id": "b53185b7",
   "metadata": {},
   "outputs": [
    {
     "name": "stdout",
     "output_type": "stream",
     "text": [
      "Clusters and prevalence computed.\n"
     ]
    }
   ],
   "source": [
    "\n",
    "import pandas as pd\n",
    "import numpy as np\n",
    "from sklearn.preprocessing import StandardScaler\n",
    "from sklearn.decomposition import PCA\n",
    "import scipy.cluster.hierarchy as sch\n",
    "from scipy.stats import chi2_contingency\n",
    "import math\n",
    "import matplotlib.pyplot as plt\n",
    "\n",
    "# Load dataset and recode binaries\n",
    "file_path = 'heart_data.csv'\n",
    "df = pd.read_csv(file_path)\n",
    "binary_map = {1: 0, 2: 1}\n",
    "for col in ['Sex','FastingBloodSugar','ExerciseInduced']:\n",
    "    df[col] = df[col].map(binary_map)\n",
    "\n",
    "cont_vars = ['Age','RestBloodPressure','SerumCholestoral','MaxHeartRate','MajorVessels']\n",
    "scaler = StandardScaler()\n",
    "X_cont = scaler.fit_transform(df[cont_vars])\n",
    "\n",
    "# FAMD-like preprocessing: one-hot encode categorical variables and scale\n",
    "cat_vars = ['Sex','FastingBloodSugar','ExerciseInduced','Slope']\n",
    "X_cat = pd.get_dummies(df[cat_vars].astype(str))\n",
    "cat_mean = X_cat.mean(axis=0)\n",
    "prop = X_cat.sum(axis=0) / X_cat.sum().sum() * 2\n",
    "X_cat_norm = (X_cat - cat_mean) / np.sqrt(prop)\n",
    "\n",
    "# Combine continuous and categorical and PCA (approximate FAMD)\n",
    "Z_famd = np.hstack((X_cont, X_cat_norm.values))\n",
    "pca_famd = PCA()\n",
    "X_famd_full = pca_famd.fit_transform(Z_famd)\n",
    "# Keep enough components to explain >= 75% variance\n",
    "cumvar_famd = pca_famd.explained_variance_ratio_.cumsum()\n",
    "m_f = np.argmax(cumvar_famd >= 0.75) + 1\n",
    "X_famd_space = X_famd_full[:, :m_f]\n",
    "\n",
    "# Hierarchical clustering (complete linkage, Euclidean) and cluster labels for k=2\n",
    "linkage_famd = sch.linkage(X_famd_space, method='complete', metric='euclidean')\n",
    "clusters_famd2 = sch.fcluster(linkage_famd, 2, criterion='maxclust')\n",
    "\n",
    "# Build DataFrame with z-scores and cluster labels\n",
    "results = pd.DataFrame(X_cont, columns=[v + '_z' for v in cont_vars])\n",
    "results = pd.concat([results, df[['Sex','FastingBloodSugar','ExerciseInduced','Slope','Class']]], axis=1)\n",
    "results['cluster'] = clusters_famd2\n",
    "\n",
    "# Contingency table for Class vs cluster\n",
    "class_counts = results.groupby(['cluster','Class']).size().unstack(fill_value=0)\n",
    "totals = class_counts.sum(axis=1)\n",
    "prevalence = class_counts[2] / totals\n",
    "\n",
    "# Wilson confidence intervals\n",
    "\n",
    "def wilson_ci(k, n, alpha=0.05):\n",
    "    z = 1.96\n",
    "    phat = k / n\n",
    "    denom = 1 + (z**2)/n\n",
    "    center = (phat + (z**2)/(2*n)) / denom\n",
    "    half = z * ((phat*(1 - phat) + (z**2)/(4*n)) / n)**0.5 / denom\n",
    "    return center - half, center + half\n",
    "\n",
    "ci_low = {} \n",
    "ci_high = {}\n",
    "for idx in prevalence.index:\n",
    "    k = int(class_counts.loc[idx, 2])\n",
    "    n = int(totals.loc[idx])\n",
    "    lo, hi = wilson_ci(k, n)\n",
    "    ci_low[idx] = lo\n",
    "    ci_high[idx] = hi\n",
    "\n",
    "# Chi-square test and effect sizes\n",
    "chi2, p_value, dof, expected = chi2_contingency(class_counts)\n",
    "a, b = class_counts.iloc[0,0], class_counts.iloc[0,1]\n",
    "c, d = class_counts.iloc[1,0], class_counts.iloc[1,1]\n",
    "if 0 in [a,b,c,d]:  # continuity correction if needed\n",
    "    a,b,c,d = a+0.5, b+0.5, c+0.5, d+0.5\n",
    "or_value = (b * c) / (a * d)\n",
    "se_log_or = math.sqrt(1/a + 1/b + 1/c + 1/d)\n",
    "ci_or_low = math.exp(math.log(or_value) - 1.96*se_log_or)\n",
    "ci_or_high = math.exp(math.log(or_value) + 1.96*se_log_or)\n",
    "# Risk difference and CI (Wald approximation)\n",
    "p1 = b/(a+b); n1 = a+b\n",
    "p2 = d/(c+d); n2 = c+d\n",
    "rd = p1 - p2\n",
    "se_rd = math.sqrt(p1*(1-p1)/n1 + p2*(1-p2)/n2)\n",
    "ci_rd_low = rd - 1.96*se_rd\n",
    "ci_rd_high = rd + 1.96*se_rd\n",
    "\n",
    "# Save global variables for external use (optional)\n",
    "class_counts_global = class_counts.copy()\n",
    "prevalence_global = prevalence.copy()\n",
    "ci_low_global = pd.Series(ci_low)\n",
    "ci_high_global = pd.Series(ci_high)\n",
    "rd_value = rd\n",
    "ci_rd_low_val = ci_rd_low\n",
    "ci_rd_high_val = ci_rd_high\n",
    "chi2_stat = chi2\n",
    "p_stat = p_value\n",
    "or_val = or_value\n",
    "ci_or_low_val = ci_or_low\n",
    "ci_or_high_val = ci_or_high\n",
    "\n",
    "print('Clusters and prevalence computed.')\n"
   ]
  },
  {
   "cell_type": "code",
   "execution_count": 9,
   "id": "af362175",
   "metadata": {},
   "outputs": [
    {
     "data": {
      "image/png": "[encoded data removed]",
      "text/plain": [
       "<Figure size 500x400 with 1 Axes>"
      ]
     },
     "metadata": {},
     "output_type": "display_data"
    }
   ],
   "source": [
    "\n",
    "import matplotlib.pyplot as plt\n",
    "# Plot disease prevalence bar chart with Wilson CI\n",
    "cluster_ids = sorted(prevalence.index)\n",
    "prev_values = [prevalence[c]*100 for c in cluster_ids]\n",
    "err_low = [(prevalence[c] - ci_low[c])*100 for c in cluster_ids]\n",
    "err_high = [(ci_high[c] - prevalence[c])*100 for c in cluster_ids]\n",
    "\n",
    "plt.figure(figsize=(5,4))\n",
    "plt.bar(range(len(cluster_ids)), prev_values, yerr=[err_low, err_high], capsize=5)\n",
    "plt.xticks(range(len(cluster_ids)), [f'Cluster {c}' for c in cluster_ids])\n",
    "plt.ylabel('Heart-disease prevalence (%)')\n",
    "plt.title('Figure 9 – Disease prevalence by cluster (95% CIs)')\n",
    "plt.ylim(0, 100)\n",
    "plt.tight_layout()\n",
    "plt.savefig('fig4_prevalence.png', dpi=300, bbox_inches='tight')  # Save Figure 4 for LaTeX\n",
    "plt.show()\n"
   ]
  },
  {
   "cell_type": "markdown",
   "id": "0caf2221",
   "metadata": {},
   "source": [
    "## 6.1 Results\n",
    "\n",
    "**Table 2 – Heart-disease status by cluster** (n/N and %):\n",
    "\n",
    "| Cluster | Class 1 (absent) | Class 2 (present) | Total N | Prevalence of Class 2 | 95 % CI |\n",
    "|---|---|---|---|---|---|\n",
    "| **1** | 8 | 10 | 18 | 55.6 % | 33.7–75.4 % |\n",
    "| **2** | 142 | 110 | 252 | 43.7 % | 37.7–49.8 % |\n",
    "\n",
    "**Statistical tests and effect sizes:**  The χ² test of independence yields χ² = 0.54, p ≈ 0.46 (not significant).  The absolute risk difference is 11.9 percentage points with a 95 % CI of –11.9 to 35.7 percentage points.  The odds ratio comparing Cluster 1 with Cluster 2 is 1.61 (95 % CI 0.62–4.22).\n",
    "\n",
    "**One‑liner:** *Cluster 1 shows a higher heart‑disease prevalence than Cluster 2 (OR ≈ 1.6), but the 95 % confidence interval includes 1 and the difference is not statistically significant.*\n",
    "\n",
    "### Clinical characterisation of clusters\n",
    "\n",
    "- **Cluster 1 (n = 18):** Slightly older, higher resting blood pressure, **lower maximum heart rate**, and normal-to-lower serum cholesterol.  Higher prevalence of fasting blood sugar > 120 mg/dl and exercise-induced angina.  All individuals are **Slope = 3**, reflecting a steep ST‑segment.\n",
    "- **Cluster 2 (n = 252):** Near-average continuous measures with a mix of **Slope = 1 and 2**.  Lower prevalence of metabolic and angina markers.\n",
    "\n",
    "> **Note:** This is a post‑hoc, associational analysis; no causal claims are made.\n"
   ]
  },
  {
   "cell_type": "markdown",
   "id": "4a4b0746",
   "metadata": {},
   "source": [
    "### 6.2 Notes on interpretation\n",
    "\n",
    "These analyses are **post hoc and label-dependent**, unlike the clustering step (Step 5) which was entirely unsupervised. We first formed clusters without using Class labels, then reintroduced Class only for comparison of disease prevalence. As such, any observed differences between clusters and heart‑disease prevalence are associational; causal claims cannot be made without further study.\n"
   ]
  }
 ],
 "metadata": {
  "kernelspec": {
   "display_name": ".venv",
   "language": "python",
   "name": "python3"
  },
  "language_info": {
   "codemirror_mode": {
    "name": "ipython",
    "version": 3
   },
   "file_extension": ".py",
   "mimetype": "text/x-python",
   "name": "python",
   "nbconvert_exporter": "python",
   "pygments_lexer": "ipython3",
   "version": "3.13.7"
  }
 },
 "nbformat": 4,
 "nbformat_minor": 5
}
