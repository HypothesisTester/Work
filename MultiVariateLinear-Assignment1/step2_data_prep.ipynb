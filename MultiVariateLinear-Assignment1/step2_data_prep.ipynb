{
 "cells": [
  {
   "cell_type": "code",
   "execution_count": 3,
   "id": "3730c7f9",
   "metadata": {},
   "outputs": [
    {
     "name": "stdout",
     "output_type": "stream",
     "text": [
      "Requirement already satisfied: pip in /Users/kevinmolloy/Documents/GitHub/Work/.venv/lib/python3.13/site-packages (25.3)\n",
      "Collecting pandas\n",
      "  Downloading pandas-2.3.3-cp313-cp313-macosx_11_0_arm64.whl.metadata (91 kB)\n",
      "Collecting scikit-learn\n",
      "  Using cached scikit_learn-1.7.2-cp313-cp313-macosx_12_0_arm64.whl.metadata (11 kB)\n",
      "Collecting numpy>=1.26.0 (from pandas)\n",
      "  Downloading numpy-2.3.4-cp313-cp313-macosx_14_0_arm64.whl.metadata (62 kB)\n",
      "Requirement already satisfied: python-dateutil>=2.8.2 in /Users/kevinmolloy/Documents/GitHub/Work/.venv/lib/python3.13/site-packages (from pandas) (2.9.0.post0)\n",
      "Collecting pytz>=2020.1 (from pandas)\n",
      "  Using cached pytz-2025.2-py2.py3-none-any.whl.metadata (22 kB)\n",
      "Collecting tzdata>=2022.7 (from pandas)\n",
      "  Using cached tzdata-2025.2-py2.py3-none-any.whl.metadata (1.4 kB)\n",
      "Collecting scipy>=1.8.0 (from scikit-learn)\n",
      "  Downloading scipy-1.16.3-cp313-cp313-macosx_14_0_arm64.whl.metadata (62 kB)\n",
      "Collecting joblib>=1.2.0 (from scikit-learn)\n",
      "  Using cached joblib-1.5.2-py3-none-any.whl.metadata (5.6 kB)\n",
      "Collecting threadpoolctl>=3.1.0 (from scikit-learn)\n",
      "  Using cached threadpoolctl-3.6.0-py3-none-any.whl.metadata (13 kB)\n",
      "Requirement already satisfied: six>=1.5 in /Users/kevinmolloy/Documents/GitHub/Work/.venv/lib/python3.13/site-packages (from python-dateutil>=2.8.2->pandas) (1.17.0)\n",
      "Downloading pandas-2.3.3-cp313-cp313-macosx_11_0_arm64.whl (10.7 MB)\n",
      "\u001b[2K   \u001b[90m━━━━━━━━━━━━━━━━━━━━━━━━━━━━━━━━━━━━━━━━\u001b[0m \u001b[32m10.7/10.7 MB\u001b[0m \u001b[31m34.5 MB/s\u001b[0m  \u001b[33m0:00:00\u001b[0meta \u001b[36m0:00:01\u001b[0m\n",
      "\u001b[?25hUsing cached scikit_learn-1.7.2-cp313-cp313-macosx_12_0_arm64.whl (8.6 MB)\n",
      "Using cached joblib-1.5.2-py3-none-any.whl (308 kB)\n",
      "Downloading numpy-2.3.4-cp313-cp313-macosx_14_0_arm64.whl (5.1 MB)\n",
      "\u001b[2K   \u001b[90m━━━━━━━━━━━━━━━━━━━━━━━━━━━━━━━━━━━━━━━━\u001b[0m \u001b[32m5.1/5.1 MB\u001b[0m \u001b[31m14.1 MB/s\u001b[0m  \u001b[33m0:00:00\u001b[0m eta \u001b[36m0:00:01\u001b[0m\n",
      "\u001b[?25hUsing cached pytz-2025.2-py2.py3-none-any.whl (509 kB)\n",
      "Downloading scipy-1.16.3-cp313-cp313-macosx_14_0_arm64.whl (20.9 MB)\n",
      "\u001b[2K   \u001b[90m━━━━━━━━━━━━━━━━━━━━━━━━━━━━━━━━━━━━━━━━\u001b[0m \u001b[32m20.9/20.9 MB\u001b[0m \u001b[31m29.6 MB/s\u001b[0m  \u001b[33m0:00:00\u001b[0m eta \u001b[36m0:00:01\u001b[0m\n",
      "\u001b[?25hUsing cached threadpoolctl-3.6.0-py3-none-any.whl (18 kB)\n",
      "Using cached tzdata-2025.2-py2.py3-none-any.whl (347 kB)\n",
      "Installing collected packages: pytz, tzdata, threadpoolctl, numpy, joblib, scipy, pandas, scikit-learn\n",
      "\u001b[2K   \u001b[90m━━━━━━━━━━━━━━━━━━━━━━━━━━━━━━━━━━━━━━━━\u001b[0m \u001b[32m8/8\u001b[0m [scikit-learn][0m [scikit-learn]]\n",
      "\u001b[1A\u001b[2KSuccessfully installed joblib-1.5.2 numpy-2.3.4 pandas-2.3.3 pytz-2025.2 scikit-learn-1.7.2 scipy-1.16.3 threadpoolctl-3.6.0 tzdata-2025.2\n",
      "Note: you may need to restart the kernel to use updated packages.\n"
     ]
    }
   ],
   "source": [
    "%pip install -U pip pandas scikit-learn"
   ]
  },
  {
   "cell_type": "code",
   "execution_count": 5,
   "id": "3e57629e",
   "metadata": {},
   "outputs": [
    {
     "name": "stdout",
     "output_type": "stream",
     "text": [
      "      Age_z  RestBloodPressure_z  SerumCholestoral_z  MaxHeartRate_z  \\\n",
      "0  1.712094            -0.075410            1.402212       -1.759208   \n",
      "1  1.382140            -0.916759            6.093004        0.446409   \n",
      "2  0.282294            -0.411950            0.219823       -0.375291   \n",
      "3  1.052186            -0.187590            0.258589       -1.932198   \n",
      "4  2.152032            -0.636310            0.374890       -1.240239   \n",
      "\n",
      "   MajorVessels_z  Sex  FastingBloodSugar  ExerciseInduced  Slope  \n",
      "0        2.472682    1                  0                0      2  \n",
      "1       -0.711535    0                  0                0      2  \n",
      "2       -0.711535    1                  0                0      1  \n",
      "3        0.349871    1                  0                1      2  \n",
      "4        0.349871    0                  0                1      1  \n"
     ]
    }
   ],
   "source": [
    "import pandas as pd\n",
    "from sklearn.preprocessing import StandardScaler\n",
    "\n",
    "# Load the data\n",
    "df = pd.read_csv('heart_data.csv')\n",
    "\n",
    "# Extract and store the Class variable separately\n",
    "y_class = df['Class'].copy()\n",
    "\n",
    "# Recode binary variables from 1/2 to 0/1\n",
    "binary_vars = ['Sex', 'FastingBloodSugar', 'ExerciseInduced']\n",
    "binary_map = {1: 0, 2: 1}\n",
    "df[binary_vars] = df[binary_vars].apply(lambda col: col.map(binary_map))\n",
    "\n",
    "# Identify continuous variables\n",
    "cont_vars = ['Age', 'RestBloodPressure', 'SerumCholestoral', 'MaxHeartRate', 'MajorVessels']\n",
    "\n",
    "# Standardise the continuous variables (z-scores)\n",
    "scaler = StandardScaler()\n",
    "scaled_cont = scaler.fit_transform(df[cont_vars])\n",
    "scaled_cont_df = pd.DataFrame(scaled_cont, columns=[var + '_z' for var in cont_vars])\n",
    "\n",
    "# Combine scaled continuous variables with recoded binary and ordinal variables (Slope)\n",
    "analysis_df = pd.concat([scaled_cont_df, df[binary_vars + ['Slope']]], axis=1)\n",
    "\n",
    "# Preview the analysis-ready dataset (without Class)\n",
    "print(analysis_df.head())"
   ]
  }
 ],
 "metadata": {
  "kernelspec": {
   "display_name": ".venv",
   "language": "python",
   "name": "python3"
  },
  "language_info": {
   "codemirror_mode": {
    "name": "ipython",
    "version": 3
   },
   "file_extension": ".py",
   "mimetype": "text/x-python",
   "name": "python",
   "nbconvert_exporter": "python",
   "pygments_lexer": "ipython3",
   "version": "3.13.7"
  }
 },
 "nbformat": 4,
 "nbformat_minor": 5
}
